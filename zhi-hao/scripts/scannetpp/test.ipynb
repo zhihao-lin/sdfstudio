{
 "cells": [
  {
   "cell_type": "code",
   "execution_count": 24,
   "metadata": {},
   "outputs": [],
   "source": [
    "import os\n",
    "import numpy as np\n",
    "import matplotlib.pyplot as plt\n",
    "import json"
   ]
  },
  {
   "cell_type": "code",
   "execution_count": 2,
   "metadata": {},
   "outputs": [
    {
     "name": "stdout",
     "output_type": "stream",
     "text": [
      "load from  /hdd/datasets/scannetpp/data/4a1a3a7dc5/dslr/nerfstudio/transforms_undistorted.json\n",
      "Number of frames: 340\n",
      "Max: [ 3.41400477  4.31375052 -1.28917572]\n",
      "Min: [ 0.47673615  0.94766239 -1.88266063]\n",
      "Center: [ 1.94537046  2.63070646 -1.58591817]\n",
      "Scale: 1.6830440643766407\n",
      "Save to  /hdd/datasets/scannetpp/data/4a1a3a7dc5/dslr/transforms.json\n"
     ]
    }
   ],
   "source": [
    "scene = '4a1a3a7dc5'\n",
    "path_src = f'/hdd/datasets/scannetpp/data/{scene}/dslr/nerfstudio/transforms_undistorted.json'  \n",
    "path_dst = f'/hdd/datasets/scannetpp/data/{scene}/dslr/transforms.json'\n",
    "with open(path_src, 'r') as f:\n",
    "    data = json.load(f)\n",
    "print('load from ', path_src)\n",
    "\n",
    "frames = data['frames']\n",
    "print('Number of frames:', len(frames))\n",
    "c2ws = np.array([frames[i]['transform_matrix'] for i in range(len(frames))])\n",
    "ts = c2ws[:, :3, 3]\n",
    "t_max = np.max(ts, axis=0)\n",
    "t_min = np.min(ts, axis=0)\n",
    "t_center = (t_max + t_min) / 2\n",
    "print('Max:', t_max)\n",
    "print('Min:', t_min)\n",
    "print('Center:', t_center)\n",
    "scale = np.max(t_max - t_min) / 2\n",
    "print('Scale:', scale)\n",
    "\n",
    "ts_normalized = (ts - t_center) / scale\n",
    "c2ws[:, :3, 3] = ts_normalized\n",
    "for i in range(len(frames)):\n",
    "    frames[i]['transform_matrix'] = c2ws[i].tolist()\n",
    "    p = frames[i]['file_path']\n",
    "    p = os.path.join('undistorted_images', p)\n",
    "    frames[i]['file_path'] = p\n",
    "    frames[i].pop('mask_path')\n",
    "    # m = frames[i]['mask_path']\n",
    "    # m = os.path.join('undistorted_anon_masks', m)\n",
    "    # frames[i]['mask_path'] = m\n",
    "\n",
    "data['frames'] = frames\n",
    "with open(path_dst, 'w') as f:\n",
    "    json.dump(data, f, indent=4)\n",
    "print('Save to ', path_dst)\n",
    "\n"
   ]
  },
  {
   "cell_type": "code",
   "execution_count": 26,
   "metadata": {},
   "outputs": [
    {
     "name": "stdout",
     "output_type": "stream",
     "text": [
      "load from  /hdd/datasets/scannetpp/data/4a1a3a7dc5/sdfstudio/meta_data.json\n",
      "Number of frames: 340\n",
      "Max: [0.1745212  0.2        0.03526259]\n",
      "Min: [-0.1745212  -0.2        -0.03526259]\n",
      "Center: [0. 0. 0.]\n",
      "Scale: 0.19999999999999998\n"
     ]
    }
   ],
   "source": [
    "scene = '4a1a3a7dc5'\n",
    "path_src = f'/hdd/datasets/scannetpp/data/{scene}/sdfstudio/meta_data.json'  \n",
    "with open(path_src, 'r') as f:\n",
    "    data = json.load(f)\n",
    "print('load from ', path_src)\n",
    "\n",
    "frames = data['frames']\n",
    "print('Number of frames:', len(frames))\n",
    "c2ws = np.array([frames[i]['camtoworld'] for i in range(len(frames))])\n",
    "ts = c2ws[:, :3, 3]\n",
    "t_max = np.max(ts, axis=0)\n",
    "t_min = np.min(ts, axis=0)\n",
    "t_center = (t_max + t_min) / 2\n",
    "print('Max:', t_max)\n",
    "print('Min:', t_min)\n",
    "print('Center:', t_center)\n",
    "scale = np.max(t_max - t_min) / 2\n",
    "print('Scale:', scale)"
   ]
  },
  {
   "cell_type": "code",
   "execution_count": 3,
   "metadata": {},
   "outputs": [
    {
     "name": "stdout",
     "output_type": "stream",
     "text": [
      "Number of frames: 340\n",
      "Number of unique frames: 340\n",
      "[]\n"
     ]
    }
   ],
   "source": [
    "import numpy as np\n",
    "import json \n",
    "import os \n",
    "\n",
    "path = '/hdd/datasets/scannetpp/data/4a1a3a7dc5/psdf/transforms.json'\n",
    "with open(path, 'r') as f:\n",
    "    data = json.load(f)\n",
    "\n",
    "frames = data['frames']\n",
    "print('Number of frames:', len(frames))\n",
    "file_paths = [frames[i]['file_path'] for i in range(len(frames))]\n",
    "names_u, count = np.unique(file_paths, return_counts=True)\n",
    "print('Number of unique frames:', len(names_u))\n",
    "print(count[count > 1])"
   ]
  }
 ],
 "metadata": {
  "kernelspec": {
   "display_name": "Python 3",
   "language": "python",
   "name": "python3"
  },
  "language_info": {
   "codemirror_mode": {
    "name": "ipython",
    "version": 3
   },
   "file_extension": ".py",
   "mimetype": "text/x-python",
   "name": "python",
   "nbconvert_exporter": "python",
   "pygments_lexer": "ipython3",
   "version": "3.8.19"
  },
  "vscode": {
   "interpreter": {
    "hash": "31f2aee4e71d21fbe5cf8b01ff0e069b9275f58929596ceb00d14d90e3e16cd6"
   }
  }
 },
 "nbformat": 4,
 "nbformat_minor": 2
}
