{
 "cells": [
  {
   "cell_type": "code",
   "execution_count": 2,
   "metadata": {},
   "outputs": [],
   "source": [
    "import numpy as np\n",
    "import os\n",
    "import json"
   ]
  },
  {
   "cell_type": "code",
   "execution_count": 3,
   "metadata": {},
   "outputs": [],
   "source": [
    "path_src = '/hdd/sdfstudio/data/colmap_sdfstudio/counter/transforms_original.json'\n",
    "path_tgt = '/hdd/sdfstudio/data/colmap_sdfstudio/counter/transforms.json'\n",
    "with open(path_src, 'r') as f:\n",
    "    data = json.load(f)"
   ]
  },
  {
   "cell_type": "code",
   "execution_count": 4,
   "metadata": {},
   "outputs": [
    {
     "name": "stdout",
     "output_type": "stream",
     "text": [
      "Max: [4.2664143  4.53996839 1.02127778]\n",
      "Min: [-4.44864094 -3.4509097  -1.3341804 ]\n",
      "Center: [-0.09111332  0.54452935 -0.15645131]\n",
      "Scale: 4.357527620396777\n",
      "Save to  /hdd/sdfstudio/data/colmap_sdfstudio/counter/transforms.json\n"
     ]
    }
   ],
   "source": [
    "frames = data['frames']\n",
    "c2ws = np.array([frames[i]['transform_matrix'] for i in range(len(frames))])\n",
    "\n",
    "ts = c2ws[:, :3, 3]\n",
    "t_max = np.max(ts, axis=0)\n",
    "t_min = np.min(ts, axis=0)\n",
    "t_center = (t_max + t_min) / 2\n",
    "print('Max:', t_max)\n",
    "print('Min:', t_min)\n",
    "print('Center:', t_center)\n",
    "scale = np.max(t_max - t_min) / 2\n",
    "print('Scale:', scale)\n",
    "\n",
    "ts_normalized = (ts - t_center) / scale\n",
    "c2ws[:, :3, 3] = ts_normalized\n",
    "for i in range(len(frames)):\n",
    "    frames[i]['transform_matrix'] = c2ws[i].tolist()\n",
    "\n",
    "data['frames'] = frames\n",
    "with open(path_tgt, 'w') as f:\n",
    "    json.dump(data, f, indent=4)\n",
    "print('Save to ', path_tgt)"
   ]
  }
 ],
 "metadata": {
  "kernelspec": {
   "display_name": "sdfstudio",
   "language": "python",
   "name": "python3"
  },
  "language_info": {
   "codemirror_mode": {
    "name": "ipython",
    "version": 3
   },
   "file_extension": ".py",
   "mimetype": "text/x-python",
   "name": "python",
   "nbconvert_exporter": "python",
   "pygments_lexer": "ipython3",
   "version": "3.8.19 (default, Mar 20 2024, 19:58:24) \n[GCC 11.2.0]"
  },
  "orig_nbformat": 4,
  "vscode": {
   "interpreter": {
    "hash": "d339213fbb9e88c7fbaa86a0443e362f3cae0b85aba7aeb6f88bcc7e78b37ef8"
   }
  }
 },
 "nbformat": 4,
 "nbformat_minor": 2
}
