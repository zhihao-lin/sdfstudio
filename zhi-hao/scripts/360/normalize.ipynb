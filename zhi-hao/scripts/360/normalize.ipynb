{
 "cells": [
  {
   "cell_type": "code",
   "execution_count": 2,
   "metadata": {},
   "outputs": [],
   "source": [
    "import numpy as np\n",
    "import os\n",
    "import json"
   ]
  },
  {
   "cell_type": "code",
   "execution_count": 13,
   "metadata": {},
   "outputs": [],
   "source": [
    "path_src = '/hdd/sdfstudio/data/colmap_sdfstudio/stump_raw/transforms.json'\n",
    "rotation = '/hdd/sdfstudio/data/colmap_sdfstudio/stump_raw/rotation_aligned.npy'\n",
    "path_tgt = '/hdd/sdfstudio/data/colmap_sdfstudio/stump/transforms.json'\n",
    "\n",
    "with open(path_src, 'r') as f:\n",
    "    data = json.load(f)\n",
    "rotation = np.load(rotation)"
   ]
  },
  {
   "cell_type": "code",
   "execution_count": 14,
   "metadata": {},
   "outputs": [
    {
     "name": "stdout",
     "output_type": "stream",
     "text": [
      "sx: 0.24989955805544395\n",
      "sy: 0.25\n",
      "w: 1244\n",
      "h: 825\n",
      "fl_x: 1131.2309502183105\n",
      "fl_y: 1131.7441525093413\n",
      "cx: 619.3225331448746\n",
      "cy: 415.04261395491966\n"
     ]
    }
   ],
   "source": [
    "# Camera Intrinsics\n",
    "s = 4\n",
    "w_new = int(np.floor(data['w'] / s))\n",
    "h_new = int(np.floor(data['h'] / s))\n",
    "sx = w_new / data['w']\n",
    "sy = h_new / data['h']\n",
    "\n",
    "print('sx:', sx)\n",
    "print('sy:', sy)\n",
    "\n",
    "data['w'] = w_new\n",
    "data['h'] = h_new\n",
    "\n",
    "data['fl_x'] *= sx\n",
    "data['fl_y'] *= sy\n",
    "data['cx'] *= sx\n",
    "data['cy'] *= sy\n",
    "\n",
    "print('w:', data['w'])\n",
    "print('h:', data['h'])\n",
    "print('fl_x:', data['fl_x'])\n",
    "print('fl_y:', data['fl_y'])\n",
    "print('cx:', data['cx'])\n",
    "print('cy:', data['cy'])\n"
   ]
  },
  {
   "cell_type": "code",
   "execution_count": 15,
   "metadata": {},
   "outputs": [
    {
     "name": "stdout",
     "output_type": "stream",
     "text": [
      "Max: [4.04742559 4.09306729 3.19949501]\n",
      "Min: [-3.2005408  -3.74665197 -3.99109831]\n",
      "Center: [ 0.42344239  0.17320766 -0.39580165]\n",
      "Scale: 3.9198596296652948\n",
      "Save to  /hdd/sdfstudio/data/colmap_sdfstudio/stump/transforms.json\n"
     ]
    }
   ],
   "source": [
    "# Camera Extrinsics\n",
    "frames = data['frames']\n",
    "c2ws = np.array([frames[i]['transform_matrix'] for i in range(len(frames))])\n",
    "\n",
    "\n",
    "ts = c2ws[:, :3, 3]\n",
    "t_max = np.max(ts, axis=0)\n",
    "t_min = np.min(ts, axis=0)\n",
    "t_center = (t_max + t_min) / 2\n",
    "print('Max:', t_max)\n",
    "print('Min:', t_min)\n",
    "print('Center:', t_center)\n",
    "scale = np.max(t_max - t_min) / 2\n",
    "print('Scale:', scale)\n",
    "\n",
    "ts_normalized = (ts - t_center) / scale\n",
    "c2ws[:, :3, 3] = ts_normalized\n",
    "R_align = np.eye(4)\n",
    "R_align[:3, :3] = rotation\n",
    "c2ws = np.matmul(R_align, c2ws)\n",
    "for i in range(len(frames)):\n",
    "    frames[i]['transform_matrix'] = c2ws[i].tolist()\n",
    "\n",
    "data['frames'] = frames\n",
    "with open(path_tgt, 'w') as f:\n",
    "    json.dump(data, f, indent=4)\n",
    "print('Save to ', path_tgt)"
   ]
  }
 ],
 "metadata": {
  "kernelspec": {
   "display_name": "sdfstudio",
   "language": "python",
   "name": "python3"
  },
  "language_info": {
   "codemirror_mode": {
    "name": "ipython",
    "version": 3
   },
   "file_extension": ".py",
   "mimetype": "text/x-python",
   "name": "python",
   "nbconvert_exporter": "python",
   "pygments_lexer": "ipython3",
   "version": "3.8.19"
  },
  "orig_nbformat": 4,
  "vscode": {
   "interpreter": {
    "hash": "d339213fbb9e88c7fbaa86a0443e362f3cae0b85aba7aeb6f88bcc7e78b37ef8"
   }
  }
 },
 "nbformat": 4,
 "nbformat_minor": 2
}
