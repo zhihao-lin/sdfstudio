{
 "cells": [
  {
   "cell_type": "code",
   "execution_count": 1,
   "metadata": {},
   "outputs": [],
   "source": [
    "import json\n",
    "import os\n",
    "from argparse import ArgumentParser\n",
    "\n",
    "import numpy as np\n",
    "from matplotlib import pyplot as plt\n",
    "from PIL import Image\n",
    "from tqdm import tqdm"
   ]
  },
  {
   "cell_type": "code",
   "execution_count": 59,
   "metadata": {},
   "outputs": [],
   "source": [
    "DATA_ROOT='/hdd/sdfstudio/data/colmap_sdfstudio/room_raw'\n",
    "path_transform = os.path.join(DATA_ROOT, 'transforms.json')\n",
    "dir_normal = os.path.join(DATA_ROOT, 'normal')\n",
    "dir_mask = os.path.join(DATA_ROOT, 'mask')\n"
   ]
  },
  {
   "cell_type": "code",
   "execution_count": 60,
   "metadata": {},
   "outputs": [],
   "source": [
    "def align_filter_normal(path_normals, path_masks, c2ws):\n",
    "    print('Aligning and filering normal ...')\n",
    "    normals = []\n",
    "    for i in tqdm(range(len(path_normals))):\n",
    "        path_normal = path_normals[i]\n",
    "        path_mask = path_masks[i]\n",
    "        c2w = c2ws[i] # OpneGL\n",
    "        mask = np.array(Image.open(path_mask)) > 0 # (h, w)\n",
    "        if not mask.any():\n",
    "            continue\n",
    "        normal = np.array(Image.open(path_normal))/255.0 # (h, w, 3)\n",
    "        normal = normal * 2 - 1 \n",
    "        normal[..., 1:3] *= -1 \n",
    "        R_c2w = c2w[:3, :3]\n",
    "        normal_world = normal @ R_c2w.T\n",
    "        normal_world = normal_world / np.linalg.norm(normal_world, axis=-1, keepdims=True)\n",
    "        normal_world = normal_world[mask]\n",
    "        normals.append(normal_world)\n",
    "    normals = np.concatenate(normals, axis=0)\n",
    "    return normals"
   ]
  },
  {
   "cell_type": "code",
   "execution_count": 61,
   "metadata": {},
   "outputs": [
    {
     "name": "stdout",
     "output_type": "stream",
     "text": [
      "Aligning and filering normal ...\n"
     ]
    },
    {
     "name": "stderr",
     "output_type": "stream",
     "text": [
      "  0%|          | 0/311 [00:00<?, ?it/s]"
     ]
    },
    {
     "name": "stderr",
     "output_type": "stream",
     "text": [
      "100%|██████████| 311/311 [00:11<00:00, 27.84it/s]\n"
     ]
    }
   ],
   "source": [
    "with open(path_transform, 'r') as f:\n",
    "    transform = json.load(f)\n",
    "\n",
    "frames = transform['frames']\n",
    "c2ws = np.array([frames[i]['transform_matrix'] for i in range(len(frames))])\n",
    "paths = np.array([frames[i]['file_path'] for i in range(len(frames))])\n",
    "argsort = np.argsort(paths)\n",
    "c2ws = c2ws[argsort]\n",
    "\n",
    "paths_normal = sorted([os.path.join(dir_normal, f) for f in os.listdir(dir_normal)])\n",
    "paths_mask = sorted([os.path.join(dir_mask, f) for f in os.listdir(dir_mask)])\n",
    "assert len(paths_normal) == len(paths_mask) == len(c2ws)\n",
    "\n",
    "normals = align_filter_normal(paths_normal, paths_mask, c2ws)"
   ]
  },
  {
   "cell_type": "code",
   "execution_count": 62,
   "metadata": {},
   "outputs": [
    {
     "name": "stderr",
     "output_type": "stream",
     "text": [
      "  1%|          | 1/100 [00:00<00:49,  2.01it/s]"
     ]
    },
    {
     "name": "stdout",
     "output_type": "stream",
     "text": [
      "Inliers: 0.5626546746606013\n"
     ]
    },
    {
     "name": "stderr",
     "output_type": "stream",
     "text": [
      "  3%|▎         | 3/100 [00:01<00:52,  1.84it/s]"
     ]
    },
    {
     "name": "stdout",
     "output_type": "stream",
     "text": [
      "Inliers: 0.5760104827522241\n"
     ]
    },
    {
     "name": "stderr",
     "output_type": "stream",
     "text": [
      "  5%|▌         | 5/100 [00:02<00:53,  1.77it/s]"
     ]
    },
    {
     "name": "stdout",
     "output_type": "stream",
     "text": [
      "Inliers: 0.5967593474401561\n"
     ]
    },
    {
     "name": "stderr",
     "output_type": "stream",
     "text": [
      " 10%|█         | 10/100 [00:05<00:49,  1.82it/s]"
     ]
    },
    {
     "name": "stdout",
     "output_type": "stream",
     "text": [
      "Inliers: 0.6110161176101199\n"
     ]
    },
    {
     "name": "stderr",
     "output_type": "stream",
     "text": [
      "100%|██████████| 100/100 [00:54<00:00,  1.85it/s]\n"
     ]
    }
   ],
   "source": [
    "# RANSAC\n",
    "n_iter = 100\n",
    "n_sample = 10000\n",
    "threshold = 0.99\n",
    "best_inliers = 0\n",
    "best_normal = None\n",
    "for i in tqdm(range(n_iter)):\n",
    "    idx = np.random.choice(len(normals), n_sample, replace=False)\n",
    "    normal = np.mean(normals[idx], axis=0)\n",
    "    normal /= np.linalg.norm(normal)\n",
    "    inliers = normals @ normal > threshold\n",
    "    n_inliers = np.sum(inliers)\n",
    "    if n_inliers > best_inliers:\n",
    "        print(f'Inliers: {n_inliers/len(normals)}')\n",
    "        best_inliers = n_inliers\n",
    "        best_normal = normal"
   ]
  },
  {
   "cell_type": "code",
   "execution_count": 63,
   "metadata": {},
   "outputs": [
    {
     "name": "stdout",
     "output_type": "stream",
     "text": [
      "Best normal: [-0.90442986 -0.08648835  0.41776356]\n",
      "Best inliers rate: 0.6110161176101199\n"
     ]
    }
   ],
   "source": [
    "print('Best normal:', best_normal)\n",
    "print('Best inliers rate:', best_inliers / len(normals))"
   ]
  },
  {
   "cell_type": "code",
   "execution_count": 64,
   "metadata": {},
   "outputs": [
    {
     "name": "stdout",
     "output_type": "stream",
     "text": [
      "normal_temp:\n",
      " [-8.96167510e-03 -8.56982413e-04  9.99959476e-01]\n",
      "Rotation:\n",
      " [[ 0.43112807 -0.05439979  0.90064935]\n",
      " [-0.05439979  0.99479789  0.08612683]\n",
      " [-0.90064935 -0.08612683  0.42592595]]\n",
      "Aligned normal:\n",
      " [-8.96167510e-03 -8.56982413e-04  9.99959476e-01]\n"
     ]
    }
   ],
   "source": [
    "# Get the rotation matrix that aligns the best normal to (0, 0, 1)\n",
    "import cv2\n",
    "v = np.array([0, 0, 1])\n",
    "\n",
    "normal_temp = best_normal.copy()\n",
    "R_all = np.eye(3)\n",
    "for i in range(100):\n",
    "    axis = np.cross(normal_temp, v)\n",
    "    angle = np.arccos(np.dot(normal_temp, v))\n",
    "    R = cv2.Rodrigues(axis * angle)[0]\n",
    "    normal_temp = R @ normal_temp\n",
    "    R_all = R @ R_all\n",
    "\n",
    "normal_aligned = R_all @ best_normal\n",
    "print('normal_temp:\\n', normal_temp)\n",
    "print('Rotation:\\n', R_all)\n",
    "print('Aligned normal:\\n', normal_aligned)\n",
    "# print(R_all.T @ R_all)\n",
    "save_path = os.path.join(DATA_ROOT, 'rotation_aligned.npy')\n",
    "np.save(save_path, R_all)"
   ]
  }
 ],
 "metadata": {
  "kernelspec": {
   "display_name": "sdfstudio",
   "language": "python",
   "name": "python3"
  },
  "language_info": {
   "codemirror_mode": {
    "name": "ipython",
    "version": 3
   },
   "file_extension": ".py",
   "mimetype": "text/x-python",
   "name": "python",
   "nbconvert_exporter": "python",
   "pygments_lexer": "ipython3",
   "version": "3.8.19"
  }
 },
 "nbformat": 4,
 "nbformat_minor": 2
}
