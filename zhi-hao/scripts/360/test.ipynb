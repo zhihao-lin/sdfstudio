{
 "cells": [
  {
   "cell_type": "code",
   "execution_count": 1,
   "metadata": {},
   "outputs": [
    {
     "name": "stdout",
     "output_type": "stream",
     "text": [
      "185\n",
      "185\n"
     ]
    },
    {
     "name": "stderr",
     "output_type": "stream",
     "text": [
      "100%|██████████| 185/185 [00:04<00:00, 44.05it/s]\n"
     ]
    }
   ],
   "source": [
    "import os\n",
    "from tqdm import tqdm\n",
    "dir_src = '/hdd/sdfstudio/data/nerfstudio-data-mipnerf360/garden/images'\n",
    "dir_name = '/hdd/sdfstudio/data/colmap_ns/garden/images'\n",
    "dir_tgt = '/hdd/sdfstudio/data/colmap_ns/garden/images_new'\n",
    "os.makedirs(dir_tgt, exist_ok=True)\n",
    "\n",
    "paths_tgt = sorted([os.path.join(dir_tgt, name) for name in os.listdir(dir_name)])\n",
    "paths_src = sorted([os.path.join(dir_src, name) for name in os.listdir(dir_src)])\n",
    "# print(len(paths_tgt))\n",
    "# print(len(paths_src))\n",
    "\n",
    "for i in tqdm(range(len(paths_tgt))):\n",
    "    command = 'cp {} {}'.format(paths_src[i], paths_tgt[i])\n",
    "    os.system(command)"
   ]
  },
  {
   "cell_type": "code",
   "execution_count": 5,
   "metadata": {},
   "outputs": [],
   "source": [
    "import json \n",
    "import numpy as np\n",
    "\n",
    "path_ns = '/hdd/sdfstudio/data/nerfstudio-data-mipnerf360/counter/transforms.json'\n",
    "path_hy = '/hdd/sdfstudio/data/colmap_ns/counter_0/transforms.json'\n",
    "path_out = '/hdd/sdfstudio/data/colmap_ns/counter/transforms.json'\n",
    "\n",
    "with open(path_ns, 'r') as f:\n",
    "    data_ns = json.load(f)\n",
    "with open(path_hy, 'r') as f:\n",
    "    data_hy = json.load(f)\n",
    "\n",
    "file_paths_ns = [frame['file_path'] for frame in data_ns['frames']]\n",
    "matrix_ns = np.array([frame['transform_matrix'] for frame in data_ns['frames']])\n",
    "argsort_ns = np.argsort(file_paths_ns)\n",
    "file_paths_ns = [file_paths_ns[i] for i in argsort_ns]\n",
    "matrix_ns = matrix_ns[argsort_ns]\n",
    "\n",
    "file_paths_hy = [frame['file_path'] for frame in data_hy['frames']]\n",
    "matrix_hy = np.array([frame['transform_matrix'] for frame in data_hy['frames']])\n",
    "argsort_hy = np.argsort(file_paths_hy)\n",
    "file_paths_hy = [file_paths_hy[i] for i in argsort_hy]\n",
    "matrix_hy = matrix_hy[argsort_hy]\n",
    "\n",
    "new_frames = []\n",
    "for i in range(len(file_paths_ns)):\n",
    "    new_frames.append({\n",
    "        'file_path': file_paths_ns[i],\n",
    "        'transform_matrix': matrix_hy[i].tolist()\n",
    "    })\n",
    "\n",
    "data_ns['frames'] = new_frames\n",
    "with open(path_out, 'w') as f:\n",
    "    json.dump(data_ns, f, indent=4)\n",
    "\n",
    "\n",
    "\n"
   ]
  },
  {
   "cell_type": "code",
   "execution_count": 7,
   "metadata": {},
   "outputs": [
    {
     "name": "stdout",
     "output_type": "stream",
     "text": [
      "[4.49760861 7.51865396 8.31237045]\n",
      "[7.58777422 8.42730166 2.45284921]\n"
     ]
    }
   ],
   "source": [
    "path_ns = '/hdd/sdfstudio/data/nerfstudio-data-mipnerf360/garden/transforms.json'\n",
    "path_hy = '/hdd/sdfstudio/data/colmap_ns/garden_0/transforms.json'\n",
    "path_out = '/hdd/sdfstudio/data/colmap_ns/garden/transforms.json'\n",
    "\n",
    "with open(path_ns, 'r') as f:\n",
    "    data_ns = json.load(f)\n",
    "with open(path_hy, 'r') as f:\n",
    "    data_hy = json.load(f)\n",
    "\n",
    "file_paths_ns = [frame['file_path'] for frame in data_ns['frames']]\n",
    "matrix_ns = np.array([frame['transform_matrix'] for frame in data_ns['frames']])\n",
    "argsort_ns = np.argsort(file_paths_ns)\n",
    "file_paths_ns = [file_paths_ns[i] for i in argsort_ns]\n",
    "matrix_ns = matrix_ns[argsort_ns]\n",
    "\n",
    "file_paths_hy = [frame['file_path'] for frame in data_hy['frames']]\n",
    "matrix_hy = np.array([frame['transform_matrix'] for frame in data_hy['frames']])\n",
    "argsort_hy = np.argsort(file_paths_hy)\n",
    "file_paths_hy = [file_paths_hy[i] for i in argsort_hy]\n",
    "matrix_hy = matrix_hy[argsort_hy]\n",
    "\n",
    "pos_ns = matrix_ns[:, :3, 3]\n",
    "range_ns = np.max(pos_ns, axis=0) - np.min(pos_ns, axis=0)\n",
    "pos_hy = matrix_hy[:, :3, 3]\n",
    "range_hy = np.max(pos_hy, axis=0) - np.min(pos_hy, axis=0)\n",
    "print(range_ns)\n",
    "print(range_hy)"
   ]
  }
 ],
 "metadata": {
  "kernelspec": {
   "display_name": "sdfstudio",
   "language": "python",
   "name": "python3"
  },
  "language_info": {
   "codemirror_mode": {
    "name": "ipython",
    "version": 3
   },
   "file_extension": ".py",
   "mimetype": "text/x-python",
   "name": "python",
   "nbconvert_exporter": "python",
   "pygments_lexer": "ipython3",
   "version": "3.8.19"
  },
  "orig_nbformat": 4,
  "vscode": {
   "interpreter": {
    "hash": "d339213fbb9e88c7fbaa86a0443e362f3cae0b85aba7aeb6f88bcc7e78b37ef8"
   }
  }
 },
 "nbformat": 4,
 "nbformat_minor": 2
}
